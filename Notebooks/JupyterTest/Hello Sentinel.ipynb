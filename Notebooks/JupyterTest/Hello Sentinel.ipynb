{
 "cells": [
  {
   "cell_type": "markdown",
   "id": "51f17b46",
   "metadata": {},
   "source": [
    "##Jupyter Notebook for Sentinel Download tools."
   ]
  },
  {
   "cell_type": "code",
   "execution_count": 1,
   "id": "c4d76031",
   "metadata": {},
   "outputs": [
    {
     "name": "stdout",
     "output_type": "stream",
     "text": [
      "Hello Code Block\n"
     ]
    }
   ],
   "source": [
    "#A code block!\n",
    "print('Hello Code Block')"
   ]
  },
  {
   "cell_type": "code",
   "execution_count": null,
   "id": "90a78bc9",
   "metadata": {},
   "outputs": [],
   "source": []
  }
 ],
 "metadata": {
  "kernelspec": {
   "display_name": "Python 3 (ipykernel)",
   "language": "python",
   "name": "python3"
  },
  "language_info": {
   "codemirror_mode": {
    "name": "ipython",
    "version": 3
   },
   "file_extension": ".py",
   "mimetype": "text/x-python",
   "name": "python",
   "nbconvert_exporter": "python",
   "pygments_lexer": "ipython3",
   "version": "3.9.16"
  }
 },
 "nbformat": 4,
 "nbformat_minor": 5
}
